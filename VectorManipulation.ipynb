{
 "cells": [
  {
   "cell_type": "code",
   "execution_count": null,
   "metadata": {},
   "outputs": [],
   "source": [
    "def save_embeddings(emb, dic, filename):\n",
    "    f = open(filename, 'w')\n",
    "    for i in range(len(emb)):\n",
    "        f.write(dic[i])\n",
    "        for j in emb[i]:\n",
    "            f.write(\" \"+str(j))\n",
    "        f.write(\"\\n\")\n",
    "            \n",
    "def load_embeddings(filename):\n",
    "    dic = {}\n",
    "    f = open(filename, \"r\")\n",
    "    eof = False\n",
    "    while not eof:\n",
    "        line = f.readline()\n",
    "        if line != \"\":\n",
    "            sline = line.split()\n",
    "            vec = np.float64(sline[1:])\n",
    "            dic[sline[0]] = vec\n",
    "        else :\n",
    "            eof = True\n",
    "    return dic"
   ]
  },
  {
   "cell_type": "code",
   "execution_count": 1,
   "metadata": {},
   "outputs": [],
   "source": [
    "def dist(a,b):   \n",
    "    # la distance euclidienne entre a et b\n",
    "    resultat = np.array([])\n",
    "    for vec in b:\n",
    "        resultat = np.append(resultat,[(np.sqrt(np.sum(np.power(a-vec, 2))))])\n",
    "    return resultat\n"
   ]
  },
  {
   "cell_type": "code",
   "execution_count": null,
   "metadata": {},
   "outputs": [],
   "source": [
    "dic_emb = load_embeddings(\"emb.txt\")"
   ]
  },
  {
   "cell_type": "code",
   "execution_count": null,
   "metadata": {},
   "outputs": [],
   "source": [
    "# a adapter\n",
    "\n",
    "random_word = r.choice(count)\n",
    "id_random_word = dictionary[str(random_word[0])]\n",
    "vec = usable_embeddings[dictionary[\"aragorn\"]]\n",
    "\n",
    "\n",
    "dist  = dist(vec,usable_embeddings)\n",
    "print( str(random_word[0]) + \" ---> \")\n",
    "\n",
    "mins = dist.argsort()[:10]\n",
    "imin = dist.argsort()[0]\n",
    "for i in mins:\n",
    "    print(reverse_dictionary[i])"
   ]
  }
 ],
 "metadata": {
  "kernelspec": {
   "display_name": "Python 2",
   "language": "python",
   "name": "python2"
  },
  "language_info": {
   "codemirror_mode": {
    "name": "ipython",
    "version": 2
   },
   "file_extension": ".py",
   "mimetype": "text/x-python",
   "name": "python",
   "nbconvert_exporter": "python",
   "pygments_lexer": "ipython2",
   "version": "2.7.12"
  }
 },
 "nbformat": 4,
 "nbformat_minor": 2
}
